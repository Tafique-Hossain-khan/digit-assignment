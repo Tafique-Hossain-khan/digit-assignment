{
 "cells": [
  {
   "cell_type": "code",
   "execution_count": null,
   "id": "65cd39fe",
   "metadata": {
    "vscode": {
     "languageId": "plaintext"
    }
   },
   "outputs": [],
   "source": [
    "streamlit\n",
    "pandas\n",
    "matplotlib\n",
    "langchain\n",
    "langchain-google-genai\n",
    "google-generativeai\n"
   ]
  }
 ],
 "metadata": {
  "language_info": {
   "name": "python"
  }
 },
 "nbformat": 4,
 "nbformat_minor": 5
}
